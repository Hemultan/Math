{
 "cells": [
  {
   "cell_type": "markdown",
   "metadata": {
    "id": "_kX74ytuOfgy"
   },
   "source": [
    "# Домашнее задание \"Продвинутая оптимизация\"."
   ]
  },
  {
   "cell_type": "markdown",
   "metadata": {
    "id": "9JUikPzroAL8"
   },
   "source": [
    "### Задание"
   ]
  },
  {
   "cell_type": "markdown",
   "metadata": {
    "id": "ya8BlSO5nQ9a"
   },
   "source": [
    "При фиксированном `seed=42` поэкспериментируйте с параметрами алгоритма [differential_evolution](https://docs.scipy.org/doc/scipy/reference/generated/scipy.optimize.differential_evolution.html): strategy, popsize, mutation.\n",
    "\n",
    "Постройте графики количества итераций (`nit`) оптимизации [функции ackley](https://en.wikipedia.org/wiki/Ackley_function) от значения параметра. \n",
    "\n",
    "Подробнее о результате выдачи [тут](https://docs.scipy.org/doc/scipy/reference/generated/scipy.optimize.OptimizeResult.html)."
   ]
  },
  {
   "cell_type": "code",
   "execution_count": 1,
   "metadata": {
    "id": "p2gC3FEFnY08"
   },
   "outputs": [],
   "source": [
    "import numpy as np\n",
    "from scipy.optimize import differential_evolution\n",
    "import matplotlib.pyplot as plt\n",
    "\n",
    "%matplotlib inline"
   ]
  },
  {
   "cell_type": "code",
   "execution_count": 24,
   "metadata": {
    "colab": {
     "base_uri": "https://localhost:8080/"
    },
    "id": "094Qv5FuC08h",
    "outputId": "c3d23bc3-c849-4161-ed16-d3207c700ee2"
   },
   "outputs": [
    {
     "data": {
      "text/plain": [
       "     fun: 4.440892098500626e-16\n",
       " message: 'Optimization terminated successfully.'\n",
       "    nfev: 2793\n",
       "     nit: 90\n",
       " success: True\n",
       "       x: array([0., 0.])"
      ]
     },
     "execution_count": 24,
     "metadata": {},
     "output_type": "execute_result"
    }
   ],
   "source": [
    "def ackley(x):\n",
    "    arg1 = -0.2 * np.sqrt(0.5 * (x[0] ** 2 + x[1] ** 2))\n",
    "    arg2 = 0.5 * (np.cos(2. * np.pi * x[0]) + np.cos(2. * np.pi * x[1]))\n",
    "    return -20. * np.exp(arg1) - np.exp(arg2) + 20. + np.e\n",
    "\n",
    "bounds = [(-10, 10), (-10, 10)]\n",
    "\n",
    "result = differential_evolution(ackley, bounds, seed=42)\n",
    "result"
   ]
  },
  {
   "cell_type": "code",
   "execution_count": 54,
   "metadata": {
    "id": "yL8ITujuFu0M"
   },
   "outputs": [
    {
     "name": "stdout",
     "output_type": "stream",
     "text": [
      "Координаты значений параметров оптимизации: [array([0., 0.]), array([0., 0.]), array([0., 0.]), array([0., 0.]), array([ 1.96461714, -0.98241704])] \n",
      "Координаты количества итераций (nit): [212, 332, 371, 113, 7]\n"
     ]
    },
    {
     "data": {
      "image/png": "[encoded data removed]",
      "text/plain": [
       "<Figure size 432x288 with 1 Axes>"
      ]
     },
     "metadata": {
      "needs_background": "light"
     },
     "output_type": "display_data"
    }
   ],
   "source": [
    "x = []\n",
    "y = []\n",
    "\n",
    "res1 = differential_evolution(ackley, bounds, strategy='best1bin', popsize=10, mutation=(1.9, 0.7), seed=42)\n",
    "x.append(res1.x)\n",
    "y.append(res1['nit'])\n",
    "res2 = differential_evolution(ackley, bounds, strategy='rand1exp', popsize=8, mutation=(1, 1), seed=42)\n",
    "x.append(res2.x)\n",
    "y.append(res2['nit'])\n",
    "res3 = differential_evolution(ackley, bounds, strategy='best2exp', popsize=20, mutation=(0.5, 1.5), seed=42)\n",
    "x.append(res3.x)\n",
    "y.append(res3['nit'])\n",
    "res4 = differential_evolution(ackley, bounds, strategy='randtobest1bin', popsize=13, mutation=(1.5, 0.2), seed=42)\n",
    "x.append(res4.x)\n",
    "y.append(res4['nit'])\n",
    "res5 = differential_evolution(ackley, bounds, strategy='rand2bin', popsize=7, mutation=(0, 0), seed=42)\n",
    "x.append(res5.x)\n",
    "y.append(res5['nit'])\n",
    "print(f'Координаты значений параметров оптимизации: {x} \\nКоординаты количества итераций (nit): {y}')\n",
    "\n",
    "plt.plot(x, y)\n",
    "plt.show()"
   ]
  },
  {
   "cell_type": "markdown",
   "metadata": {
    "id": "v7ZXCkamEaj4"
   },
   "source": [
    "### Дополнительное задание\n"
   ]
  },
  {
   "cell_type": "markdown",
   "metadata": {
    "id": "s5d4lLHVE9lX"
   },
   "source": [
    "Поэкспериментируйте с параметрами и оптимизацией через [minimize](https://docs.scipy.org/doc/scipy/reference/generated/scipy.optimize.minimize.html):"
   ]
  },
  {
   "cell_type": "code",
   "execution_count": 46,
   "metadata": {
    "colab": {
     "base_uri": "https://localhost:8080/"
    },
    "id": "DYlrUKvXEaFr",
    "outputId": "d7845458-dbee-4ad5-c4d4-22cd2b09f8d6"
   },
   "outputs": [
    {
     "data": {
      "text/plain": [
       " final_simplex: (array([[ 0.00000000e+00,  0.00000000e+00],\n",
       "       [-1.60675049e-05, -8.45336914e-06],\n",
       "       [-1.40380859e-06, -3.11279297e-05]]), array([4.44089210e-16, 5.13604405e-05, 8.81584216e-05]))\n",
       "           fun: 4.440892098500626e-16\n",
       "       message: 'Optimization terminated successfully.'\n",
       "          nfev: 17\n",
       "           nit: 8\n",
       "        status: 0\n",
       "       success: True\n",
       "             x: array([0., 0.])"
      ]
     },
     "execution_count": 46,
     "metadata": {},
     "output_type": "execute_result"
    }
   ],
   "source": [
    "from scipy.optimize import minimize\n",
    "\n",
    "x0 = [0,0]\n",
    "\n",
    "result_m = minimize(ackley, x0,  method='Nelder-Mead')\n",
    "result_m"
   ]
  },
  {
   "cell_type": "code",
   "execution_count": 60,
   "metadata": {
    "id": "i0osASkQFujW"
   },
   "outputs": [
    {
     "name": "stdout",
     "output_type": "stream",
     "text": [
      "Optimization terminated successfully.\n",
      "         Current function value: 0.000000\n",
      "         Iterations: 44\n",
      "         Function evaluations: 89\n"
     ]
    },
    {
     "data": {
      "text/plain": [
       "array([0., 0.])"
      ]
     },
     "execution_count": 60,
     "metadata": {},
     "output_type": "execute_result"
    }
   ],
   "source": [
    "result_m1 = minimize(ackley, x0,  method='Nelder-Mead', jac=None, options={'xtol':1e-10, 'disp':True})\n",
    "result_m1.x"
   ]
  },
  {
   "cell_type": "code",
   "execution_count": 59,
   "metadata": {},
   "outputs": [
    {
     "name": "stdout",
     "output_type": "stream",
     "text": [
      "Optimization terminated successfully.\n",
      "         Current function value: 0.000000\n",
      "         Iterations: 0\n",
      "         Function evaluations: 1\n",
      "         Gradient evaluations: 1\n"
     ]
    },
    {
     "data": {
      "text/plain": [
       "array([0., 0.])"
      ]
     },
     "execution_count": 59,
     "metadata": {},
     "output_type": "execute_result"
    }
   ],
   "source": [
    "result_m2 = minimize(ackley, x0,  method='CG', jac=ackley, options={'disp':True})\n",
    "result_m2.x"
   ]
  },
  {
   "cell_type": "code",
   "execution_count": 66,
   "metadata": {},
   "outputs": [
    {
     "data": {
      "text/plain": [
       "     fun: 0.00028310899612238316\n",
       "   maxcv: 0.0\n",
       " message: 'Optimization terminated successfully.'\n",
       "    nfev: 25\n",
       "  status: 1\n",
       " success: True\n",
       "       x: array([-8.76258342e-06,  9.96153459e-05])"
      ]
     },
     "execution_count": 66,
     "metadata": {},
     "output_type": "execute_result"
    }
   ],
   "source": [
    "result_m3 = minimize(ackley, x0,  method='COBYLA', jac=ackley, options={'disp':True})\n",
    "result_m3"
   ]
  },
  {
   "cell_type": "code",
   "execution_count": 69,
   "metadata": {},
   "outputs": [
    {
     "data": {
      "text/plain": [
       "     fun: 0.00028310899612238316\n",
       "   maxcv: 0.0\n",
       " message: 'Optimization terminated successfully.'\n",
       "    nfev: 25\n",
       "  status: 1\n",
       " success: True\n",
       "       x: array([-8.76258342e-06,  9.96153459e-05])"
      ]
     },
     "execution_count": 69,
     "metadata": {},
     "output_type": "execute_result"
    }
   ],
   "source": [
    "result_m4 = minimize(ackley, x0,  method='COBYLA', jac=None, options={'xtol':1e-10, 'disp':True})\n",
    "result_m4"
   ]
  },
  {
   "cell_type": "markdown",
   "metadata": {
    "id": "SQFjdDgBDG-v"
   },
   "source": [
    "Вы также можете поэкспериментировать с [другими методами оптимизации](https://habr.com/ru/company/prequel/blog/568496/), но это не обязательно для зачета.\n"
   ]
  }
 ],
 "metadata": {
  "colab": {
   "collapsed_sections": [],
   "name": "HW_7_upd",
   "provenance": []
  },
  "kernelspec": {
   "display_name": "Python 3 (ipykernel)",
   "language": "python",
   "name": "python3"
  },
  "language_info": {
   "codemirror_mode": {
    "name": "ipython",
    "version": 3
   },
   "file_extension": ".py",
   "mimetype": "text/x-python",
   "name": "python",
   "nbconvert_exporter": "python",
   "pygments_lexer": "ipython3",
   "version": "3.9.7"
  }
 },
 "nbformat": 4,
 "nbformat_minor": 1
}
